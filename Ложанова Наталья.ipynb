{
 "cells": [
  {
   "cell_type": "code",
   "execution_count": 1,
   "id": "a345cb5c",
   "metadata": {},
   "outputs": [
    {
     "name": "stdout",
     "output_type": "stream",
     "text": [
      "345\n"
     ]
    }
   ],
   "source": [
    "a=345\n",
    "print(a)"
   ]
  },
  {
   "cell_type": "code",
   "execution_count": 5,
   "id": "7111a4a5",
   "metadata": {},
   "outputs": [
    {
     "name": "stdout",
     "output_type": "stream",
     "text": [
      "1\n"
     ]
    }
   ],
   "source": [
    "a=5\n",
    "h=8\n",
    "print(h//h)"
   ]
  },
  {
   "cell_type": "code",
   "execution_count": 8,
   "id": "98bef7fc",
   "metadata": {},
   "outputs": [
    {
     "name": "stdout",
     "output_type": "stream",
     "text": [
      "200\n",
      "191\n",
      "182\n",
      "173\n",
      "164\n",
      "155\n",
      "146\n",
      "137\n",
      "128\n",
      "119\n",
      "110\n",
      "101\n",
      "92\n",
      "83\n",
      "74\n",
      "65\n",
      "56\n",
      "47\n",
      "38\n",
      "29\n",
      "20\n",
      "11\n",
      "2\n"
     ]
    }
   ],
   "source": [
    "a=200\n",
    "while a>0:\n",
    "    print(a)\n",
    "    a=a-9"
   ]
  },
  {
   "cell_type": "code",
   "execution_count": 9,
   "id": "3a6ef217",
   "metadata": {},
   "outputs": [
    {
     "name": "stdout",
     "output_type": "stream",
     "text": [
      "43\n"
     ]
    }
   ],
   "source": [
    "a=[1, 2, 43, 46, 15, 6, 97, 54, 91, 10]\n",
    "amax=0\n",
    "for i in range(3):\n",
    "    if amax < a[i]:\n",
    "        amax = a[i]\n",
    "print (amax)"
   ]
  },
  {
   "cell_type": "code",
   "execution_count": null,
   "id": "03423cf4",
   "metadata": {},
   "outputs": [],
   "source": []
  },
  {
   "cell_type": "code",
   "execution_count": null,
   "id": "0bf7a79d",
   "metadata": {},
   "outputs": [],
   "source": []
  }
 ],
 "metadata": {
  "kernelspec": {
   "display_name": "Python 3 (ipykernel)",
   "language": "python",
   "name": "python3"
  },
  "language_info": {
   "codemirror_mode": {
    "name": "ipython",
    "version": 3
   },
   "file_extension": ".py",
   "mimetype": "text/x-python",
   "name": "python",
   "nbconvert_exporter": "python",
   "pygments_lexer": "ipython3",
   "version": "3.10.7"
  }
 },
 "nbformat": 4,
 "nbformat_minor": 5
}
